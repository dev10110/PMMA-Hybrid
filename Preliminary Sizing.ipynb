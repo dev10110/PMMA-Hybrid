{
 "cells": [
  {
   "cell_type": "code",
   "execution_count": 1,
   "metadata": {},
   "outputs": [],
   "source": [
    "import math\n",
    "import numpy as np\n",
    "import scipy as sp\n",
    "import pandas as pd\n",
    "import matplotlib.pyplot as plt\n",
    "%matplotlib notebook\n",
    "\n",
    "from scipy import stats"
   ]
  },
  {
   "cell_type": "code",
   "execution_count": 2,
   "metadata": {},
   "outputs": [
    {
     "name": "stdout",
     "output_type": "stream",
     "text": [
      "mdotprop:  0.029546898314349448\n",
      "mdotfuel:  0.00984896610478315\n",
      "mdotox:  0.019697932209566296\n"
     ]
    }
   ],
   "source": [
    "F = 100; #N\n",
    "g0 = 9.81; #m/s2\n",
    "Isp = 345;\n",
    "\n",
    "mdotprop = F/(Isp * g0)\n",
    "print('mdotprop: ', mdotprop)\n",
    "\n",
    "OF = 2;\n",
    "mdotfuel = mdotprop/(1+OF)\n",
    "mdotox   = mdotprop - mdotfuel\n",
    "\n",
    "print('mdotfuel: ', mdotfuel)\n",
    "print('mdotox: ', mdotox)"
   ]
  },
  {
   "cell_type": "code",
   "execution_count": 3,
   "metadata": {},
   "outputs": [
    {
     "name": "stdout",
     "output_type": "stream",
     "text": [
      "Initial port diameter:  0.005985719462512696\n"
     ]
    }
   ],
   "source": [
    "Gox = 700; #kg/(m2s)\n",
    "\n",
    "Dp0 = math.sqrt(4*mdotox/(math.pi*Gox))\n",
    "print('Initial port diameter: ', Dp0)"
   ]
  },
  {
   "cell_type": "code",
   "execution_count": 21,
   "metadata": {},
   "outputs": [
    {
     "name": "stdout",
     "output_type": "stream",
     "text": [
      "Gox:  155.49746567507157\n"
     ]
    }
   ],
   "source": [
    "#picked Dp0 = 0.25 in \n",
    "Dp0 = 0.5*25.4e-3;\n",
    "\n",
    "Gox = 4*mdotox/(math.pi*Dp0**2)\n",
    "\n",
    "print('Gox: ', Gox)"
   ]
  },
  {
   "cell_type": "code",
   "execution_count": 22,
   "metadata": {},
   "outputs": [],
   "source": [
    "#calculate rdot\n",
    "regrate = pd.DataFrame(columns=['name','a','n'])\n",
    "\n",
    "regrate_catwell = {'a': 2.11e-5, 'n':0.615,'name': 'Stanford'}\n",
    "regrate_TMIT = {'a': 0.0000276, 'n':0.518,'name': 'TMIT'}\n",
    "regrate_JPL1 = {'a': 8.96e-5,'n':0.35, 'name': 'JPL Non-Linear'}\n",
    "regrate_JPL2 = {'a': 0.000058,'n':0.470, 'name': 'JPL Averaged'}\n",
    "\n",
    "regrate=regrate.append(regrate_catwell,ignore_index=True)\n",
    "regrate=regrate.append(regrate_JPL1,ignore_index=True)\n",
    "regrate=regrate.append(regrate_JPL2,ignore_index=True)\n",
    "regrate=regrate.append(regrate_TMIT,ignore_index=True)"
   ]
  },
  {
   "cell_type": "code",
   "execution_count": 23,
   "metadata": {},
   "outputs": [],
   "source": [
    "regrate[\"rdot\"]=regrate['a']*Gox**regrate[\"n\"]"
   ]
  },
  {
   "cell_type": "code",
   "execution_count": 27,
   "metadata": {},
   "outputs": [
    {
     "data": {
      "text/html": [
       "<div>\n",
       "<style scoped>\n",
       "    .dataframe tbody tr th:only-of-type {\n",
       "        vertical-align: middle;\n",
       "    }\n",
       "\n",
       "    .dataframe tbody tr th {\n",
       "        vertical-align: top;\n",
       "    }\n",
       "\n",
       "    .dataframe thead th {\n",
       "        text-align: right;\n",
       "    }\n",
       "</style>\n",
       "<table border=\"1\" class=\"dataframe\">\n",
       "  <thead>\n",
       "    <tr style=\"text-align: right;\">\n",
       "      <th></th>\n",
       "      <th>a</th>\n",
       "      <th>n</th>\n",
       "      <th>rdot</th>\n",
       "      <th>name</th>\n",
       "    </tr>\n",
       "  </thead>\n",
       "  <tbody>\n",
       "    <tr>\n",
       "      <th>0</th>\n",
       "      <td>0.000021</td>\n",
       "      <td>0.615</td>\n",
       "      <td>0.000470</td>\n",
       "      <td>Stanford</td>\n",
       "    </tr>\n",
       "    <tr>\n",
       "      <th>1</th>\n",
       "      <td>0.000090</td>\n",
       "      <td>0.350</td>\n",
       "      <td>0.000524</td>\n",
       "      <td>JPL Non-Linear</td>\n",
       "    </tr>\n",
       "    <tr>\n",
       "      <th>2</th>\n",
       "      <td>0.000058</td>\n",
       "      <td>0.470</td>\n",
       "      <td>0.000622</td>\n",
       "      <td>JPL Averaged</td>\n",
       "    </tr>\n",
       "    <tr>\n",
       "      <th>3</th>\n",
       "      <td>0.000028</td>\n",
       "      <td>0.518</td>\n",
       "      <td>0.000377</td>\n",
       "      <td>TMIT</td>\n",
       "    </tr>\n",
       "  </tbody>\n",
       "</table>\n",
       "</div>"
      ],
      "text/plain": [
       "          a      n      rdot            name\n",
       "0  0.000021  0.615  0.000470        Stanford\n",
       "1  0.000090  0.350  0.000524  JPL Non-Linear\n",
       "2  0.000058  0.470  0.000622    JPL Averaged\n",
       "3  0.000028  0.518  0.000377            TMIT"
      ]
     },
     "execution_count": 27,
     "metadata": {},
     "output_type": "execute_result"
    }
   ],
   "source": [
    "regrate[['a','n','rdot','name']]"
   ]
  },
  {
   "cell_type": "code",
   "execution_count": 28,
   "metadata": {},
   "outputs": [],
   "source": [
    "rdot = stats.mstats.gmean(list(regrate['rdot']))"
   ]
  },
  {
   "cell_type": "code",
   "execution_count": 29,
   "metadata": {},
   "outputs": [
    {
     "name": "stdout",
     "output_type": "stream",
     "text": [
      "mean rdot:  0.000490163302935\n"
     ]
    }
   ],
   "source": [
    "print('mean rdot: ',rdot)"
   ]
  },
  {
   "cell_type": "code",
   "execution_count": 30,
   "metadata": {
    "scrolled": false
   },
   "outputs": [
    {
     "data": {
      "text/plain": [
       "<matplotlib.legend.Legend at 0x1115d7d68>"
      ]
     },
     "execution_count": 30,
     "metadata": {},
     "output_type": "execute_result"
    },
    {
     "data": {
      "image/png": "[encoded data removed]",
      "text/plain": [
       "<Figure size 720x720 with 1 Axes>"
      ]
     },
     "metadata": {},
     "output_type": "display_data"
    }
   ],
   "source": [
    "Grange = list(range(0,701,1))\n",
    "\n",
    "plt.figure(figsize=(10,10))\n",
    "for i in range(len(regrate)):\n",
    "    rdotplt = [1000*regrate['a'].loc[i] * g**regrate['n'].loc[i] for g in Grange]\n",
    "    plt.plot(Grange, rdotplt, label=regrate['name'].loc[i])\n",
    "    \n",
    "#\n",
    "plt.ylabel('Regression Rate (mm/s)');\n",
    "plt.grid(True)\n",
    "plt.xlabel('Gox (kg/m2s)')\n",
    "plt.legend(loc='upper left')\n"
   ]
  },
  {
   "cell_type": "code",
   "execution_count": 31,
   "metadata": {},
   "outputs": [],
   "source": [
    "rhof = 1.1852*1000;\n",
    "\n",
    "L = mdotfuel/(math.pi*rhof*Dp0*rdot)"
   ]
  },
  {
   "cell_type": "code",
   "execution_count": 34,
   "metadata": {},
   "outputs": [
    {
     "data": {
      "text/plain": [
       "0.42491749503500498"
      ]
     },
     "execution_count": 34,
     "metadata": {},
     "output_type": "execute_result"
    }
   ],
   "source": [
    "L"
   ]
  },
  {
   "cell_type": "code",
   "execution_count": 35,
   "metadata": {},
   "outputs": [],
   "source": [
    "cstar = 1650;\n",
    "Pc = 1.4*10**6\n",
    "At=mdotprop*cstar/(Pc)"
   ]
  },
  {
   "cell_type": "code",
   "execution_count": 36,
   "metadata": {},
   "outputs": [
    {
     "data": {
      "text/plain": [
       "3.482313015619756e-05"
      ]
     },
     "execution_count": 36,
     "metadata": {},
     "output_type": "execute_result"
    }
   ],
   "source": [
    "At"
   ]
  },
  {
   "cell_type": "code",
   "execution_count": 84,
   "metadata": {},
   "outputs": [],
   "source": [
    "Dt = 2*math.sqrt(At/math.pi)"
   ]
  },
  {
   "cell_type": "code",
   "execution_count": 85,
   "metadata": {},
   "outputs": [
    {
     "data": {
      "text/plain": [
       "0.006658692543309858"
      ]
     },
     "execution_count": 85,
     "metadata": {},
     "output_type": "execute_result"
    }
   ],
   "source": [
    "Dt"
   ]
  },
  {
   "cell_type": "code",
   "execution_count": 39,
   "metadata": {},
   "outputs": [
    {
     "data": {
      "text/plain": [
       "0.0127"
      ]
     },
     "execution_count": 39,
     "metadata": {},
     "output_type": "execute_result"
    }
   ],
   "source": [
    "Dp0"
   ]
  },
  {
   "cell_type": "code",
   "execution_count": 40,
   "metadata": {},
   "outputs": [],
   "source": [
    "ve = F/mdotprop"
   ]
  },
  {
   "cell_type": "code",
   "execution_count": 41,
   "metadata": {},
   "outputs": [
    {
     "data": {
      "text/plain": [
       "3384.4500000000003"
      ]
     },
     "execution_count": 41,
     "metadata": {},
     "output_type": "execute_result"
    }
   ],
   "source": [
    "ve"
   ]
  },
  {
   "cell_type": "code",
   "execution_count": 42,
   "metadata": {},
   "outputs": [],
   "source": [
    "#suppose exit  P = ambient P = 10^5 Pa"
   ]
  },
  {
   "cell_type": "code",
   "execution_count": 69,
   "metadata": {},
   "outputs": [],
   "source": [
    "gamma=1.2;\n",
    "Pe=1.013*10**5;\n",
    "Me=math.sqrt((2/(gamma-1))*((Pe/Pc)**((1-gamma)/gamma) -1))"
   ]
  },
  {
   "cell_type": "code",
   "execution_count": 70,
   "metadata": {},
   "outputs": [
    {
     "data": {
      "text/plain": [
       "2.343341395268768"
      ]
     },
     "execution_count": 70,
     "metadata": {},
     "output_type": "execute_result"
    }
   ],
   "source": [
    "Me"
   ]
  },
  {
   "cell_type": "code",
   "execution_count": 71,
   "metadata": {},
   "outputs": [],
   "source": [
    "expratio = (1/Me) * ((2/(gamma+1))*(1+((gamma-1)/2)*Me**2 ))**((gamma+1)/(2*gamma-2))"
   ]
  },
  {
   "cell_type": "code",
   "execution_count": 72,
   "metadata": {},
   "outputs": [
    {
     "data": {
      "text/plain": [
       "2.8053047150097097"
      ]
     },
     "execution_count": 72,
     "metadata": {},
     "output_type": "execute_result"
    }
   ],
   "source": [
    "expratio"
   ]
  },
  {
   "cell_type": "code",
   "execution_count": 77,
   "metadata": {},
   "outputs": [],
   "source": [
    "Ae = expratio*At "
   ]
  },
  {
   "cell_type": "code",
   "execution_count": 81,
   "metadata": {},
   "outputs": [],
   "source": [
    "De=2*math.sqrt(Ae / math.pi)"
   ]
  },
  {
   "cell_type": "code",
   "execution_count": 82,
   "metadata": {},
   "outputs": [
    {
     "data": {
      "text/plain": [
       "0.011152673371194537"
      ]
     },
     "execution_count": 82,
     "metadata": {},
     "output_type": "execute_result"
    }
   ],
   "source": [
    "De"
   ]
  },
  {
   "cell_type": "code",
   "execution_count": 86,
   "metadata": {},
   "outputs": [
    {
     "data": {
      "text/plain": [
       "0.006658692543309858"
      ]
     },
     "execution_count": 86,
     "metadata": {},
     "output_type": "execute_result"
    }
   ],
   "source": [
    "Dt"
   ]
  },
  {
   "cell_type": "code",
   "execution_count": null,
   "metadata": {},
   "outputs": [],
   "source": []
  }
 ],
 "metadata": {
  "kernelspec": {
   "display_name": "Python 3",
   "language": "python",
   "name": "python3"
  },
  "language_info": {
   "codemirror_mode": {
    "name": "ipython",
    "version": 3
   },
   "file_extension": ".py",
   "mimetype": "text/x-python",
   "name": "python",
   "nbconvert_exporter": "python",
   "pygments_lexer": "ipython3",
   "version": "3.6.7"
  },
  "widgets": {
   "application/vnd.jupyter.widget-state+json": {
    "state": {},
    "version_major": 2,
    "version_minor": 0
   }
  }
 },
 "nbformat": 4,
 "nbformat_minor": 2
}
